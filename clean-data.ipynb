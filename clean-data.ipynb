{
 "cells": [
  {
   "cell_type": "code",
   "execution_count": 1,
   "metadata": {
    "collapsed": false
   },
   "outputs": [],
   "source": [
    "import pandas as pd\n",
    "import seaborn as sns\n",
    "import numpy as np\n",
    "import matplotlib.pyplot as plt\n",
    "%matplotlib inline"
   ]
  },
  {
   "cell_type": "code",
   "execution_count": 2,
   "metadata": {
    "collapsed": false
   },
   "outputs": [],
   "source": [
    "#load the training data\n",
    "train_values = pd.read_csv('training_set_values.csv')"
   ]
  },
  {
   "cell_type": "code",
   "execution_count": 3,
   "metadata": {
    "collapsed": true
   },
   "outputs": [],
   "source": [
    "#load the training set labels\n",
    "train_labels = pd.read_csv('training_set_labels.csv')"
   ]
  },
  {
   "cell_type": "code",
   "execution_count": 4,
   "metadata": {
    "collapsed": true
   },
   "outputs": [],
   "source": [
    "#combine training and the labels for it\n",
    "combined = train_values.merge(train_labels, on='id')"
   ]
  },
  {
   "cell_type": "code",
   "execution_count": 5,
   "metadata": {
    "collapsed": false,
    "scrolled": false
   },
   "outputs": [
    {
     "name": "stdout",
     "output_type": "stream",
     "text": [
      "      id  amount_tsh date_recorded        funder  gps_height     installer  \\\n",
      "0  69572      6000.0    2011-03-14         Roman        1390         Roman   \n",
      "1   8776         0.0    2013-03-06       Grumeti        1399       GRUMETI   \n",
      "2  34310        25.0    2013-02-25  Lottery Club         686  World vision   \n",
      "3  67743         0.0    2013-01-28        Unicef         263        UNICEF   \n",
      "4  19728         0.0    2011-07-13   Action In A           0       Artisan   \n",
      "\n",
      "   longitude   latitude              wpt_name  num_private       ...        \\\n",
      "0  34.938093  -9.856322                  none            0       ...         \n",
      "1  34.698766  -2.147466              Zahanati            0       ...         \n",
      "2  37.460664  -3.821329           Kwa Mahundi            0       ...         \n",
      "3  38.486161 -11.155298  Zahanati Ya Nanyumbu            0       ...         \n",
      "4  31.130847  -1.825359               Shuleni            0       ...         \n",
      "\n",
      "  water_quality quality_group      quantity  quantity_group  \\\n",
      "0          soft          good        enough          enough   \n",
      "1          soft          good  insufficient    insufficient   \n",
      "2          soft          good        enough          enough   \n",
      "3          soft          good           dry             dry   \n",
      "4          soft          good      seasonal        seasonal   \n",
      "\n",
      "                 source           source_type source_class  \\\n",
      "0                spring                spring  groundwater   \n",
      "1  rainwater harvesting  rainwater harvesting      surface   \n",
      "2                   dam                   dam      surface   \n",
      "3           machine dbh              borehole  groundwater   \n",
      "4  rainwater harvesting  rainwater harvesting      surface   \n",
      "\n",
      "               waterpoint_type waterpoint_type_group    status_group  \n",
      "0           communal standpipe    communal standpipe      functional  \n",
      "1           communal standpipe    communal standpipe      functional  \n",
      "2  communal standpipe multiple    communal standpipe      functional  \n",
      "3  communal standpipe multiple    communal standpipe  non functional  \n",
      "4           communal standpipe    communal standpipe      functional  \n",
      "\n",
      "[5 rows x 41 columns]\n",
      "(59400, 41)\n"
     ]
    }
   ],
   "source": [
    "#check it worked\n",
    "print(combined.head())\n",
    "print(combined.shape)"
   ]
  },
  {
   "cell_type": "code",
   "execution_count": 16,
   "metadata": {
    "collapsed": true
   },
   "outputs": [],
   "source": [
    "#start to remove unnecessary features"
   ]
  },
  {
   "cell_type": "code",
   "execution_count": 6,
   "metadata": {
    "collapsed": false
   },
   "outputs": [
    {
     "data": {
      "text/plain": [
       "array(['GeoData Consultants Ltd'], dtype=object)"
      ]
     },
     "execution_count": 6,
     "metadata": {},
     "output_type": "execute_result"
    }
   ],
   "source": [
    "#recorded_by has no unique values\n",
    "combined['recorded_by'].unique()"
   ]
  },
  {
   "cell_type": "code",
   "execution_count": 7,
   "metadata": {
    "collapsed": true
   },
   "outputs": [],
   "source": [
    "combined.drop('recorded_by', axis=1, inplace=True)"
   ]
  },
  {
   "cell_type": "code",
   "execution_count": 8,
   "metadata": {
    "collapsed": false
   },
   "outputs": [
    {
     "data": {
      "text/plain": [
       "41639"
      ]
     },
     "execution_count": 8,
     "metadata": {},
     "output_type": "execute_result"
    }
   ],
   "source": [
    "c = combined\n",
    "c = c[c.amount_tsh==0]\n",
    "len(c)"
   ]
  },
  {
   "cell_type": "code",
   "execution_count": 9,
   "metadata": {
    "collapsed": true
   },
   "outputs": [],
   "source": [
    "#dropping this column because too many missing values\n",
    "combined.drop('amount_tsh', axis=1, inplace=True)"
   ]
  },
  {
   "cell_type": "code",
   "execution_count": 10,
   "metadata": {
    "collapsed": false
   },
   "outputs": [],
   "source": [
    "#doing the same with public meeting and permit columns\n",
    "combined.drop('public_meeting', axis=1, inplace=True)\n",
    "combined.drop('permit', axis=1, inplace=True)"
   ]
  },
  {
   "cell_type": "code",
   "execution_count": 11,
   "metadata": {
    "collapsed": false
   },
   "outputs": [
    {
     "data": {
      "text/plain": [
       "extraction_type            extraction_type_group  extraction_type_class\n",
       "afridev                    afridev                handpump                  1770\n",
       "cemo                       other motorpump        motorpump                   90\n",
       "climax                     other motorpump        motorpump                   32\n",
       "gravity                    gravity                gravity                  26780\n",
       "india mark ii              india mark ii          handpump                  2400\n",
       "india mark iii             india mark iii         handpump                    98\n",
       "ksb                        submersible            submersible               1415\n",
       "mono                       mono                   motorpump                 2865\n",
       "nira/tanira                nira/tanira            handpump                  8154\n",
       "other                      other                  other                     6430\n",
       "other - mkulima/shinyanga  other handpump         handpump                     2\n",
       "other - play pump          other handpump         handpump                    85\n",
       "other - rope pump          rope pump              rope pump                  451\n",
       "other - swn 81             other handpump         handpump                   229\n",
       "submersible                submersible            submersible               4764\n",
       "swn 80                     swn 80                 handpump                  3670\n",
       "walimi                     other handpump         handpump                    48\n",
       "windmill                   wind-powered           wind-powered               117\n",
       "dtype: int64"
      ]
     },
     "execution_count": 11,
     "metadata": {},
     "output_type": "execute_result"
    }
   ],
   "source": [
    "#look at categorical predictors that show similar information\n",
    "#start with extraction_type, extraction_type_group, and extraction_type_class\n",
    "\n",
    "d = combined\n",
    "d.groupby(['extraction_type', 'extraction_type_group', 'extraction_type_class']).size()"
   ]
  },
  {
   "cell_type": "code",
   "execution_count": 12,
   "metadata": {
    "collapsed": false
   },
   "outputs": [],
   "source": [
    "# Group low occuring counts together or into related groups\n",
    "# ignore warnings\n",
    "import warnings\n",
    "warnings.filterwarnings(\"ignore\")\n",
    "\n",
    "combined['extraction_type'][combined.extraction_type.isin(['india mark ii','india mark iii'])] = 'india mark'\n",
    "combined['extraction_type_class'][combined.extraction_type_class.isin(['india mark ii','india mark iii'])] = 'india mark'\n",
    "combined['extraction_type'][combined.extraction_type.isin(['cemo', 'climax'])] = 'motorpump'\n",
    "combined['extraction_type_class'][combined.extraction_type_class.isin(['cemo', 'climax'])] = 'motorpump'\n",
    "combined['extraction_type'][combined.extraction_type.isin(['other - mkulima/shinyanga','other - play pump', 'walimi'])] = 'handpump'\n",
    "combined['extraction_type_class'][combined.extraction_type_class.isin(['other - mkulima/shinyanga','other - play pump', 'walimi'])] = 'handpump'\n",
    "combined['extraction_type'][combined.extraction_type.isin(['other - swn 81','swn 80'])] = 'swn'\n",
    "combined['extraction_type_class'][combined.extraction_type_class.isin(['other - swn 81','swn 80'])] = 'swn'\n"
   ]
  },
  {
   "cell_type": "code",
   "execution_count": 13,
   "metadata": {
    "collapsed": false
   },
   "outputs": [
    {
     "data": {
      "text/plain": [
       "extraction_type    extraction_type_group  extraction_type_class\n",
       "afridev            afridev                handpump                  1770\n",
       "gravity            gravity                gravity                  26780\n",
       "handpump           other handpump         handpump                   135\n",
       "india mark         india mark ii          handpump                  2400\n",
       "                   india mark iii         handpump                    98\n",
       "ksb                submersible            submersible               1415\n",
       "mono               mono                   motorpump                 2865\n",
       "motorpump          other motorpump        motorpump                  122\n",
       "nira/tanira        nira/tanira            handpump                  8154\n",
       "other              other                  other                     6430\n",
       "other - rope pump  rope pump              rope pump                  451\n",
       "submersible        submersible            submersible               4764\n",
       "swn                other handpump         handpump                   229\n",
       "                   swn 80                 handpump                  3670\n",
       "windmill           wind-powered           wind-powered               117\n",
       "dtype: int64"
      ]
     },
     "execution_count": 13,
     "metadata": {},
     "output_type": "execute_result"
    }
   ],
   "source": [
    "#check it worked\n",
    "d = combined\n",
    "d.groupby(['extraction_type', 'extraction_type_group', 'extraction_type_class']).size()                       "
   ]
  },
  {
   "cell_type": "code",
   "execution_count": 14,
   "metadata": {
    "collapsed": false
   },
   "outputs": [],
   "source": [
    "#remove extraction_type_group\n",
    "combined.drop('extraction_type_group', axis=1, inplace=True)"
   ]
  },
  {
   "cell_type": "code",
   "execution_count": 15,
   "metadata": {
    "collapsed": false
   },
   "outputs": [
    {
     "data": {
      "text/plain": [
       "management        management_group\n",
       "company           commercial            685\n",
       "other             other                 844\n",
       "other - school    other                  99\n",
       "parastatal        parastatal           1768\n",
       "private operator  commercial           1971\n",
       "trust             commercial             78\n",
       "unknown           unknown               561\n",
       "vwc               user-group          40507\n",
       "water authority   commercial            904\n",
       "water board       user-group           2933\n",
       "wua               user-group           2535\n",
       "wug               user-group           6515\n",
       "dtype: int64"
      ]
     },
     "execution_count": 15,
     "metadata": {},
     "output_type": "execute_result"
    }
   ],
   "source": [
    "d = combined\n",
    "d.groupby(['management', 'management_group']).size()      "
   ]
  },
  {
   "cell_type": "code",
   "execution_count": 16,
   "metadata": {
    "collapsed": false
   },
   "outputs": [
    {
     "data": {
      "text/plain": [
       "scheme_management  scheme_name                 \n",
       "Company            BFFS                              1\n",
       "                   Bagamoyo Wate                    60\n",
       "                   Bagamoyo wate                   210\n",
       "                   Borehole                          1\n",
       "                   Borehole drilling project         1\n",
       "                   Bulamba piped scheme              2\n",
       "                   Burieni water supply              1\n",
       "                   Doe water supply                  3\n",
       "                   EKTM 2 water  supply              1\n",
       "                   EKTM 2 water suply               25\n",
       "                   EKTM 2 water supply               9\n",
       "                   EKTM 3 water supply              51\n",
       "                   Fufulamsuri water supply          1\n",
       "                   GRUMETI                           6\n",
       "                   HESAWA                            1\n",
       "                   Hakwe water supply               10\n",
       "                   Holili water supply              23\n",
       "                   I                                 1\n",
       "                   IKTM 2                            1\n",
       "                   IKTM 2 water supply               1\n",
       "                   IKTM 3 water supply               1\n",
       "                   Ibukoni kimanga water supply      1\n",
       "                   Iburieni water supply             6\n",
       "                   Ihum                              1\n",
       "                   Ikela Wa                         89\n",
       "                   It                                1\n",
       "                   Kamdawi water supply              8\n",
       "                   Kandika water supply              4\n",
       "                   Kaseni water supply               1\n",
       "                   Kastamu water supply              8\n",
       "                                                  ... \n",
       "Water authority    Shirimatunda Water Supply        16\n",
       "                   Shirimatunda water Supply        58\n",
       "                   Shirimatunda water supply         1\n",
       "                   Singino                           1\n",
       "                   Sinyanga water supplied sch       4\n",
       "                   Submersible                       1\n",
       "                   Sui                               1\n",
       "                   Suwasa water supply               8\n",
       "                   TWESA                             1\n",
       "                   Tank fu Mwenge                    1\n",
       "                   Tank fupi Mwenge                  8\n",
       "                   Tank refu Kasokola                4\n",
       "                   Tank refu Mtakuja                 6\n",
       "                   Tank refu Sitalike                7\n",
       "                   Tungu water piped scheme          1\n",
       "                   Tutu                             25\n",
       "                   UWAMAMA                           4\n",
       "                   Urambo water supply              15\n",
       "                   Vumari water supply              11\n",
       "                   Vunta water supply               11\n",
       "                   WD                                1\n",
       "                   Water from DAWASCO               28\n",
       "                   World Bank                       60\n",
       "                   World Vision                      8\n",
       "                   World vision                      1\n",
       "                   Yongoma                          16\n",
       "                   Zepalama                          5\n",
       "                   no scheme                         9\n",
       "                   pump                              2\n",
       "                   water supply at Kalebejo          1\n",
       "dtype: int64"
      ]
     },
     "execution_count": 16,
     "metadata": {},
     "output_type": "execute_result"
    }
   ],
   "source": [
    "d = combined\n",
    "d.groupby(['scheme_management', 'scheme_name']).size() "
   ]
  },
  {
   "cell_type": "code",
   "execution_count": 17,
   "metadata": {
    "collapsed": false
   },
   "outputs": [],
   "source": [
    "#remove scheme_name because too many different scheme types\n",
    "combined.drop('scheme_name', axis=1, inplace=True)"
   ]
  },
  {
   "cell_type": "code",
   "execution_count": 18,
   "metadata": {
    "collapsed": false
   },
   "outputs": [
    {
     "data": {
      "text/plain": [
       "payment                payment_type\n",
       "never pay              never pay       25348\n",
       "other                  other            1054\n",
       "pay annually           annually         3642\n",
       "pay monthly            monthly          8300\n",
       "pay per bucket         per bucket       8985\n",
       "pay when scheme fails  on failure       3914\n",
       "unknown                unknown          8157\n",
       "dtype: int64"
      ]
     },
     "execution_count": 18,
     "metadata": {},
     "output_type": "execute_result"
    }
   ],
   "source": [
    "d = combined\n",
    "d.groupby(['payment', 'payment_type']).size() "
   ]
  },
  {
   "cell_type": "code",
   "execution_count": 19,
   "metadata": {
    "collapsed": true
   },
   "outputs": [],
   "source": [
    "# these look the same so we can drop payment\n",
    "combined.drop('payment', axis=1, inplace=True)"
   ]
  },
  {
   "cell_type": "code",
   "execution_count": 20,
   "metadata": {
    "collapsed": false
   },
   "outputs": [
    {
     "data": {
      "text/plain": [
       "water_quality       quality_group\n",
       "coloured            colored            490\n",
       "fluoride            fluoride           200\n",
       "fluoride abandoned  fluoride            17\n",
       "milky               milky              804\n",
       "salty               salty             4856\n",
       "salty abandoned     salty              339\n",
       "soft                good             50818\n",
       "unknown             unknown           1876\n",
       "dtype: int64"
      ]
     },
     "execution_count": 20,
     "metadata": {},
     "output_type": "execute_result"
    }
   ],
   "source": [
    "d = combined\n",
    "d.groupby(['water_quality', 'quality_group']).size() "
   ]
  },
  {
   "cell_type": "code",
   "execution_count": 21,
   "metadata": {
    "collapsed": true
   },
   "outputs": [],
   "source": [
    "#these look the same as well \n",
    "#keep the one with more description\n",
    "combined.drop('quality_group', axis=1, inplace=True)"
   ]
  },
  {
   "cell_type": "code",
   "execution_count": 22,
   "metadata": {
    "collapsed": false
   },
   "outputs": [
    {
     "data": {
      "text/plain": [
       "quantity      quantity_group\n",
       "dry           dry                6246\n",
       "enough        enough            33186\n",
       "insufficient  insufficient      15129\n",
       "seasonal      seasonal           4050\n",
       "unknown       unknown             789\n",
       "dtype: int64"
      ]
     },
     "execution_count": 22,
     "metadata": {},
     "output_type": "execute_result"
    }
   ],
   "source": [
    "d = combined\n",
    "d.groupby(['quantity', 'quantity_group']).size() "
   ]
  },
  {
   "cell_type": "code",
   "execution_count": 23,
   "metadata": {
    "collapsed": false
   },
   "outputs": [],
   "source": [
    "#these look the same as well \n",
    "#keep quantity\n",
    "combined.drop('quantity_group', axis=1, inplace=True)"
   ]
  },
  {
   "cell_type": "code",
   "execution_count": 24,
   "metadata": {
    "collapsed": false
   },
   "outputs": [
    {
     "data": {
      "text/plain": [
       "source                source_type           source_class\n",
       "dam                   dam                   surface           656\n",
       "hand dtw              borehole              groundwater       874\n",
       "lake                  river/lake            surface           765\n",
       "machine dbh           borehole              groundwater     11075\n",
       "other                 other                 unknown           212\n",
       "rainwater harvesting  rainwater harvesting  surface          2295\n",
       "river                 river/lake            surface          9612\n",
       "shallow well          shallow well          groundwater     16824\n",
       "spring                spring                groundwater     17021\n",
       "unknown               other                 unknown            66\n",
       "dtype: int64"
      ]
     },
     "execution_count": 24,
     "metadata": {},
     "output_type": "execute_result"
    }
   ],
   "source": [
    "d = combined\n",
    "d.groupby(['source', 'source_type', 'source_class']).size() "
   ]
  },
  {
   "cell_type": "code",
   "execution_count": 25,
   "metadata": {
    "collapsed": true
   },
   "outputs": [],
   "source": [
    "#remove source_type\n",
    "combined.drop('source_type', axis=1, inplace=True)"
   ]
  },
  {
   "cell_type": "code",
   "execution_count": 26,
   "metadata": {
    "collapsed": false
   },
   "outputs": [
    {
     "data": {
      "text/plain": [
       "waterpoint_type              waterpoint_type_group\n",
       "cattle trough                cattle trough              116\n",
       "communal standpipe           communal standpipe       28522\n",
       "communal standpipe multiple  communal standpipe        6103\n",
       "dam                          dam                          7\n",
       "hand pump                    hand pump                17488\n",
       "improved spring              improved spring            784\n",
       "other                        other                     6380\n",
       "dtype: int64"
      ]
     },
     "execution_count": 26,
     "metadata": {},
     "output_type": "execute_result"
    }
   ],
   "source": [
    "d = combined\n",
    "d.groupby(['waterpoint_type', 'waterpoint_type_group']).size() "
   ]
  },
  {
   "cell_type": "code",
   "execution_count": 27,
   "metadata": {
    "collapsed": true
   },
   "outputs": [],
   "source": [
    "#drop one\n",
    "combined.drop('waterpoint_type_group', axis=1, inplace=True)"
   ]
  },
  {
   "cell_type": "code",
   "execution_count": 28,
   "metadata": {
    "collapsed": true
   },
   "outputs": [],
   "source": [
    "#looking at geographic info now"
   ]
  },
  {
   "cell_type": "code",
   "execution_count": 31,
   "metadata": {
    "collapsed": false
   },
   "outputs": [
    {
     "data": {
      "text/plain": [
       "region         region_code  district_code\n",
       "Arusha         2            1                 189\n",
       "                            2                1206\n",
       "                            3                 109\n",
       "                            5                 201\n",
       "                            6                 310\n",
       "                            7                1009\n",
       "               24           30                326\n",
       "Dar es Salaam  7            1                  93\n",
       "                            2                 497\n",
       "                            3                 215\n",
       "Dodoma         1            0                  23\n",
       "                            1                 888\n",
       "                            3                 361\n",
       "                            4                 347\n",
       "                            5                 358\n",
       "                            6                 224\n",
       "Iringa         11           1                 728\n",
       "                            2                 530\n",
       "                            3                 650\n",
       "                            4                2473\n",
       "                            5                 564\n",
       "                            7                 349\n",
       "Kagera         18           1                 771\n",
       "                            2                 487\n",
       "                            3                 402\n",
       "                            4                 403\n",
       "                            6                  88\n",
       "                            7                 260\n",
       "                            8                 236\n",
       "                            30                669\n",
       "                                             ... \n",
       "Shinyanga      11           3                   3\n",
       "                            4                   3\n",
       "               14           4                  20\n",
       "               17           1                1196\n",
       "                            2                 802\n",
       "                            3                1401\n",
       "                            5                 514\n",
       "                            6                 453\n",
       "                            7                 191\n",
       "                            8                 387\n",
       "                            80                 12\n",
       "Singida        13           1                 544\n",
       "                            2                 995\n",
       "                            3                 377\n",
       "                            4                 177\n",
       "Tabora         14           1                 574\n",
       "                            2                 339\n",
       "                            3                 337\n",
       "                            4                 382\n",
       "                            5                 170\n",
       "                            6                 157\n",
       "Tanga          4            1                 698\n",
       "                            2                 408\n",
       "                            3                 323\n",
       "                            4                 110\n",
       "                            5                 293\n",
       "                            6                 266\n",
       "                            7                 127\n",
       "                            8                 288\n",
       "               5            1                  34\n",
       "dtype: int64"
      ]
     },
     "execution_count": 31,
     "metadata": {},
     "output_type": "execute_result"
    }
   ],
   "source": [
    "d = combined\n",
    "d.groupby(['region', 'region_code', 'district_code']).size()\n",
    "#regions have unique codes but district codes repeat within regions"
   ]
  },
  {
   "cell_type": "code",
   "execution_count": 44,
   "metadata": {
    "collapsed": true
   },
   "outputs": [],
   "source": [
    "# Compute average longitude and latitude in districts within region to subsitute for zero values found\n",
    "# i might do this later - might not be valid/useful"
   ]
  },
  {
   "cell_type": "code",
   "execution_count": 32,
   "metadata": {
    "collapsed": true
   },
   "outputs": [],
   "source": [
    "#use lga column to create new feature: rural, urban, other\n",
    "def get_setting(x):\n",
    "    x=str(x)\n",
    "    if x.find('Rural') >= 0: return 'rural'\n",
    "    if x.find('Urban') >= 0: return 'urban'\n",
    "    return 'other'"
   ]
  },
  {
   "cell_type": "code",
   "execution_count": 33,
   "metadata": {
    "collapsed": false
   },
   "outputs": [],
   "source": [
    "combined['rural_urban'] = combined.lga.apply(get_setting)"
   ]
  },
  {
   "cell_type": "code",
   "execution_count": 34,
   "metadata": {
    "collapsed": false,
    "scrolled": true
   },
   "outputs": [
    {
     "data": {
      "text/plain": [
       "other    48165\n",
       "rural     9552\n",
       "urban     1683\n",
       "Name: rural_urban, dtype: int64"
      ]
     },
     "execution_count": 34,
     "metadata": {},
     "output_type": "execute_result"
    }
   ],
   "source": [
    "combined['rural_urban'].value_counts()\n",
    "#this may not be all that useful as most are in the other column, but will be easy to encode later for random forest"
   ]
  },
  {
   "cell_type": "code",
   "execution_count": 35,
   "metadata": {
    "collapsed": false
   },
   "outputs": [
    {
     "name": "stdout",
     "output_type": "stream",
     "text": [
      "<class 'pandas.core.series.Series'>\n",
      "<class 'pandas.core.series.Series'>\n"
     ]
    }
   ],
   "source": [
    "print(type(combined.date_recorded))\n",
    "print(type(combined.construction_year))"
   ]
  },
  {
   "cell_type": "code",
   "execution_count": 36,
   "metadata": {
    "collapsed": true
   },
   "outputs": [],
   "source": [
    "#use date time function in pandas\n",
    "combined['date_recorded'] = pd.to_datetime(combined['date_recorded'])\n",
    "combined['construction_year'] = combined.construction_year.map(lambda x: np.nan if x == 0 else x)"
   ]
  },
  {
   "cell_type": "code",
   "execution_count": 37,
   "metadata": {
    "collapsed": false
   },
   "outputs": [],
   "source": [
    "combined['operation_year'] = combined.date_recorded.dt.year - combined.construction_year"
   ]
  },
  {
   "cell_type": "code",
   "execution_count": 38,
   "metadata": {
    "collapsed": false
   },
   "outputs": [
    {
     "data": {
      "text/html": [
       "<div>\n",
       "<table border=\"1\" class=\"dataframe\">\n",
       "  <thead>\n",
       "    <tr style=\"text-align: right;\">\n",
       "      <th></th>\n",
       "      <th>operation_year</th>\n",
       "      <th>date_recorded</th>\n",
       "      <th>construction_year</th>\n",
       "    </tr>\n",
       "  </thead>\n",
       "  <tbody>\n",
       "    <tr>\n",
       "      <th>0</th>\n",
       "      <td>12.0</td>\n",
       "      <td>2011-03-14</td>\n",
       "      <td>1999.0</td>\n",
       "    </tr>\n",
       "    <tr>\n",
       "      <th>1</th>\n",
       "      <td>3.0</td>\n",
       "      <td>2013-03-06</td>\n",
       "      <td>2010.0</td>\n",
       "    </tr>\n",
       "    <tr>\n",
       "      <th>2</th>\n",
       "      <td>4.0</td>\n",
       "      <td>2013-02-25</td>\n",
       "      <td>2009.0</td>\n",
       "    </tr>\n",
       "    <tr>\n",
       "      <th>3</th>\n",
       "      <td>27.0</td>\n",
       "      <td>2013-01-28</td>\n",
       "      <td>1986.0</td>\n",
       "    </tr>\n",
       "    <tr>\n",
       "      <th>4</th>\n",
       "      <td>NaN</td>\n",
       "      <td>2011-07-13</td>\n",
       "      <td>NaN</td>\n",
       "    </tr>\n",
       "    <tr>\n",
       "      <th>5</th>\n",
       "      <td>2.0</td>\n",
       "      <td>2011-03-13</td>\n",
       "      <td>2009.0</td>\n",
       "    </tr>\n",
       "    <tr>\n",
       "      <th>6</th>\n",
       "      <td>NaN</td>\n",
       "      <td>2012-10-01</td>\n",
       "      <td>NaN</td>\n",
       "    </tr>\n",
       "    <tr>\n",
       "      <th>7</th>\n",
       "      <td>NaN</td>\n",
       "      <td>2012-10-09</td>\n",
       "      <td>NaN</td>\n",
       "    </tr>\n",
       "    <tr>\n",
       "      <th>8</th>\n",
       "      <td>NaN</td>\n",
       "      <td>2012-11-03</td>\n",
       "      <td>NaN</td>\n",
       "    </tr>\n",
       "    <tr>\n",
       "      <th>9</th>\n",
       "      <td>NaN</td>\n",
       "      <td>2011-08-03</td>\n",
       "      <td>NaN</td>\n",
       "    </tr>\n",
       "  </tbody>\n",
       "</table>\n",
       "</div>"
      ],
      "text/plain": [
       "   operation_year date_recorded  construction_year\n",
       "0            12.0    2011-03-14             1999.0\n",
       "1             3.0    2013-03-06             2010.0\n",
       "2             4.0    2013-02-25             2009.0\n",
       "3            27.0    2013-01-28             1986.0\n",
       "4             NaN    2011-07-13                NaN\n",
       "5             2.0    2011-03-13             2009.0\n",
       "6             NaN    2012-10-01                NaN\n",
       "7             NaN    2012-10-09                NaN\n",
       "8             NaN    2012-11-03                NaN\n",
       "9             NaN    2011-08-03                NaN"
      ]
     },
     "execution_count": 38,
     "metadata": {},
     "output_type": "execute_result"
    }
   ],
   "source": [
    "#print(type(combined.date_recorded))\n",
    "combined[['operation_year', 'date_recorded', 'construction_year']].head(10)"
   ]
  },
  {
   "cell_type": "code",
   "execution_count": 39,
   "metadata": {
    "collapsed": false
   },
   "outputs": [
    {
     "data": {
      "text/plain": [
       "1      6354\n",
       "2     12402\n",
       "3     17936\n",
       "4      3970\n",
       "5       336\n",
       "6       346\n",
       "7      6928\n",
       "8      3364\n",
       "9       328\n",
       "10     5466\n",
       "11     1349\n",
       "12      621\n",
       "Name: date_recorded, dtype: int64"
      ]
     },
     "execution_count": 39,
     "metadata": {},
     "output_type": "execute_result"
    }
   ],
   "source": [
    "#create season variable \n",
    "#look at monthly counts for reference\n",
    "combined.date_recorded.dt.month.value_counts().sort_index()"
   ]
  },
  {
   "cell_type": "code",
   "execution_count": 40,
   "metadata": {
    "collapsed": true
   },
   "outputs": [],
   "source": [
    "combined['month_recorded'] = combined.date_recorded.dt.month"
   ]
  },
  {
   "cell_type": "code",
   "execution_count": 41,
   "metadata": {
    "collapsed": true
   },
   "outputs": [],
   "source": [
    "#Jan and Feb short dry season\n",
    "#long rains lasts during about March, April and May \n",
    "#long dry season lasts throughout June, July, August, September and October \n",
    "#During November and December there's another rainy season: the 'short rains'"
   ]
  },
  {
   "cell_type": "code",
   "execution_count": 42,
   "metadata": {
    "collapsed": true
   },
   "outputs": [],
   "source": [
    "def get_season (x):\n",
    "    if x <= 2: return 1 #short dry season \n",
    "    elif x <= 5: return 2 #long rains\n",
    "    elif x <= 10: return 3 #long dry season\n",
    "    elif x<= 12: return 4 # short rains\n",
    "    return \n",
    "    "
   ]
  },
  {
   "cell_type": "code",
   "execution_count": 43,
   "metadata": {
    "collapsed": false
   },
   "outputs": [],
   "source": [
    "#apply function and create new column\n",
    "combined['season']=combined.month_recorded.apply(get_season)"
   ]
  },
  {
   "cell_type": "code",
   "execution_count": 44,
   "metadata": {
    "collapsed": false,
    "scrolled": true
   },
   "outputs": [
    {
     "data": {
      "text/plain": [
       "2    22242\n",
       "1    18756\n",
       "3    16432\n",
       "4     1970\n",
       "Name: season, dtype: int64"
      ]
     },
     "execution_count": 44,
     "metadata": {},
     "output_type": "execute_result"
    }
   ],
   "source": [
    "combined.season.value_counts()"
   ]
  },
  {
   "cell_type": "code",
   "execution_count": 58,
   "metadata": {
    "collapsed": false,
    "scrolled": true
   },
   "outputs": [],
   "source": [
    "#For every categorical response, convert the levels to lower case, in case there is random capitalization\n",
    "combined.installer = combined.installer.str.lower()\n",
    "combined.funder = combined.funder.str.lower()\n",
    "combined.wpt_name = combined.wpt_name.str.lower()\n",
    "combined.basin = combined.basin.str.lower()\n",
    "combined.subvillage = combined.subvillage.str.lower()\n",
    "combined.region = combined.region.str.lower()\n",
    "combined.lga = combined.lga.str.lower()\n",
    "combined.ward = combined.ward.str.lower()\n",
    "combined.management = combined.management.str.lower()\n",
    "combined.management_group = combined.management_group.str.lower()\n",
    "combined.scheme_management = combined.scheme_management.str.lower()"
   ]
  },
  {
   "cell_type": "code",
   "execution_count": 45,
   "metadata": {
    "collapsed": false
   },
   "outputs": [],
   "source": [
    "#probably not the most elegant but i'm filling NaN with zeros to impute mean coordinates, population, and construction year where missing\n",
    "combined['longitude'].replace('0', np.nan, inplace=True)\n",
    "combined['latitude'].replace('0', np.nan, inplace=True)\n",
    "combined['gps_height'].replace('0', np.nan, inplace=True)\n",
    "combined['construction_year'].replace('0', np.nan, inplace=True)\n",
    "combined['operation_year'].replace('0', np.nan, inplace=True)\n",
    "combined['population'].replace('0', np.nan, inplace=True)"
   ]
  },
  {
   "cell_type": "code",
   "execution_count": 46,
   "metadata": {
    "collapsed": false
   },
   "outputs": [],
   "source": [
    "#impute mean for location coordinates, year, and population using groupby for region and district\n",
    "#when the district code info isn't available I impute just the regional mean\n",
    "combined[\"latitude\"].fillna(combined.groupby(['region', 'district_code'])[\"latitude\"].transform(\"mean\"), inplace=True)\n",
    "combined[\"longitude\"].fillna(combined.groupby(['region', 'district_code'])[\"longitude\"].transform(\"mean\"), inplace=True)\n",
    "combined[\"longitude\"].fillna(combined.groupby(['region'])[\"longitude\"].transform(\"mean\"), inplace=True)\n",
    "combined[\"gps_height\"].fillna(combined.groupby(['region', 'district_code'])[\"gps_height\"].transform(\"mean\"), inplace=True)\n",
    "combined[\"gps_height\"].fillna(combined.groupby(['region'])[\"gps_height\"].transform(\"mean\"), inplace=True)\n",
    "combined[\"gps_height\"].fillna(combined[\"gps_height\"].mean(), inplace=True)\n",
    "combined[\"construction_year\"].fillna(combined[\"construction_year\"].mean(), inplace=True)\n",
    "combined[\"population\"].fillna(combined.groupby(['region', 'district_code'])[\"population\"].transform(\"mean\"), inplace=True)\n",
    "combined[\"population\"].fillna(combined.groupby(['region'])[\"population\"].transform(\"mean\"), inplace=True)\n",
    "combined[\"population\"].fillna(combined[\"population\"].mean(), inplace=True)"
   ]
  },
  {
   "cell_type": "code",
   "execution_count": 47,
   "metadata": {
    "collapsed": true
   },
   "outputs": [],
   "source": [
    "combined[\"funder\"].fillna(\"other\", inplace=True)\n",
    "combined[\"installer\"].fillna(\"other\", inplace=True)\n",
    "combined[\"scheme_management\"].fillna(\"other\", inplace=True)\n",
    "combined[\"subvillage\"].fillna(\"other\", inplace=True)"
   ]
  },
  {
   "cell_type": "code",
   "execution_count": 48,
   "metadata": {
    "collapsed": true
   },
   "outputs": [],
   "source": [
    "#recalculate operation year\n",
    "combined['operation_year'] = combined.date_recorded.dt.year - combined.construction_year"
   ]
  },
  {
   "cell_type": "code",
   "execution_count": 49,
   "metadata": {
    "collapsed": false,
    "scrolled": true
   },
   "outputs": [
    {
     "data": {
      "text/plain": [
       "id                       0\n",
       "date_recorded            0\n",
       "funder                   0\n",
       "gps_height               0\n",
       "installer                0\n",
       "longitude                0\n",
       "latitude                 0\n",
       "wpt_name                 0\n",
       "num_private              0\n",
       "basin                    0\n",
       "subvillage               0\n",
       "region                   0\n",
       "region_code              0\n",
       "district_code            0\n",
       "lga                      0\n",
       "ward                     0\n",
       "population               0\n",
       "scheme_management        0\n",
       "construction_year        0\n",
       "extraction_type          0\n",
       "extraction_type_class    0\n",
       "management               0\n",
       "management_group         0\n",
       "payment_type             0\n",
       "water_quality            0\n",
       "quantity                 0\n",
       "source                   0\n",
       "source_class             0\n",
       "waterpoint_type          0\n",
       "status_group             0\n",
       "rural_urban              0\n",
       "operation_year           0\n",
       "month_recorded           0\n",
       "season                   0\n",
       "dtype: int64"
      ]
     },
     "execution_count": 49,
     "metadata": {},
     "output_type": "execute_result"
    }
   ],
   "source": [
    "#look at missing vals\n",
    "combined.isnull().sum()"
   ]
  },
  {
   "cell_type": "code",
   "execution_count": 50,
   "metadata": {
    "collapsed": false
   },
   "outputs": [
    {
     "data": {
      "text/plain": [
       "34"
      ]
     },
     "execution_count": 50,
     "metadata": {},
     "output_type": "execute_result"
    }
   ],
   "source": [
    "len(list(combined))\n",
    "#started with 40 columns, now have 34"
   ]
  },
  {
   "cell_type": "code",
   "execution_count": 51,
   "metadata": {
    "collapsed": true
   },
   "outputs": [],
   "source": [
    "#export cleaned df - have removed a few features and engineered a few\n",
    "#will clean both test and train dfs this way\n",
    "#to clean the test set i did this process again with the test set values\n",
    "pd.DataFrame(combined).to_csv(\"cleaned_v2.csv\")"
   ]
  },
  {
   "cell_type": "code",
   "execution_count": null,
   "metadata": {
    "collapsed": true
   },
   "outputs": [],
   "source": []
  }
 ],
 "metadata": {
  "kernelspec": {
   "display_name": "Python 3",
   "language": "python",
   "name": "python3"
  },
  "language_info": {
   "codemirror_mode": {
    "name": "ipython",
    "version": 3
   },
   "file_extension": ".py",
   "mimetype": "text/x-python",
   "name": "python",
   "nbconvert_exporter": "python",
   "pygments_lexer": "ipython3",
   "version": "3.5.1"
  }
 },
 "nbformat": 4,
 "nbformat_minor": 0
}
